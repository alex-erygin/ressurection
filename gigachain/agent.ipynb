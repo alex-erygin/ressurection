{
 "cells": [
  {
   "cell_type": "code",
   "execution_count": 2,
   "metadata": {},
   "outputs": [],
   "source": [
    "import os\n",
    "\n",
    "os.environ[\"TAVILY_API_KEY\"] = ''\n"
   ]
  },
  {
   "cell_type": "code",
   "execution_count": 3,
   "metadata": {},
   "outputs": [
    {
     "name": "stdout",
     "output_type": "stream",
     "text": [
      "[{'url': 'https://www.weatherapi.com/', 'content': \"{'location': {'name': 'Москва', 'region': 'Moscow City', 'country': 'Россия', 'lat': 55.75, 'lon': 37.62, 'tz_id': 'Europe/Moscow', 'localtime_epoch': 1725888224, 'localtime': '2024-09-09 16:23'}, 'current': {'last_updated_epoch': 1725887700, 'last_updated': '2024-09-09 16:15', 'temp_c': 25.4, 'temp_f': 77.7, 'is_day': 1, 'condition': {'text': 'Sunny', 'icon': '//cdn.weatherapi.com/weather/64x64/day/113.png', 'code': 1000}, 'wind_mph': 9.4, 'wind_kph': 15.1, 'wind_degree': 110, 'wind_dir': 'ESE', 'pressure_mb': 1022.0, 'pressure_in': 30.18, 'precip_mm': 0.0, 'precip_in': 0.0, 'humidity': 39, 'cloud': 0, 'feelslike_c': 25.2, 'feelslike_f': 77.3, 'windchill_c': 26.0, 'windchill_f': 78.8, 'heatindex_c': 25.6, 'heatindex_f': 78.0, 'dewpoint_c': 8.3, 'dewpoint_f': 46.9, 'vis_km': 10.0, 'vis_miles': 6.0, 'uv': 7.0, 'gust_mph': 13.9, 'gust_kph': 22.3}}\"}, {'url': 'https://weather.rambler.ru/v-moskve/9-september/', 'content': 'Подробный прогноз погоды в Москве на 9 сентября 2024: температура воздуха, ветер, осадки, давление, влажность, а также геомагнитная обстановка и uv индекс. ... 09:00 12:00 15:00 18:00 ... Москва — погода ...'}]\n"
     ]
    }
   ],
   "source": [
    "from langchain_community.tools.tavily_search import TavilySearchResults\n",
    "\n",
    "search = TavilySearchResults(max_results=2)\n",
    "search_results = search.invoke(\"Узнай на weatherapi погоду в Москве\")\n",
    "print(search_results)\n",
    "# Если нужно, вы можете создать другие инструменты.\n",
    "# После создания всех необходимых инструментов\n",
    "# их можно сохранить в списке, к которому можно обращаться позднее.\n",
    "tools = [search]"
   ]
  },
  {
   "cell_type": "code",
   "execution_count": 4,
   "metadata": {},
   "outputs": [],
   "source": [
    "from langchain.chat_models.gigachat import GigaChat\n",
    "\n",
    "model = GigaChat(\n",
    "    credentials=\"\",\n",
    "    scope=\"GIGACHAT_API_PERS\",\n",
    "    model=\"GigaChat-Pro\",\n",
    ")"
   ]
  },
  {
   "cell_type": "code",
   "execution_count": 5,
   "metadata": {},
   "outputs": [
    {
     "data": {
      "text/plain": [
       "'Здравствуйте! Я могу вам чем-нибудь помочь?'"
      ]
     },
     "execution_count": 5,
     "metadata": {},
     "output_type": "execute_result"
    }
   ],
   "source": [
    "from langchain_core.messages import HumanMessage\n",
    "\n",
    "response = model.invoke([HumanMessage(content=\"Привет!\")])\n",
    "response.content"
   ]
  },
  {
   "cell_type": "code",
   "execution_count": 6,
   "metadata": {},
   "outputs": [
    {
     "name": "stdout",
     "output_type": "stream",
     "text": [
      "ContentString: Здравствуйте! Я могу вам чем-нибудь помочь?\n",
      "ToolCalls: []\n"
     ]
    }
   ],
   "source": [
    "model_with_tools = model.bind_tools(tools)\n",
    "response = model_with_tools.invoke([HumanMessage(content=\"Привет!\")])\n",
    "\n",
    "print(f\"ContentString: {response.content}\")\n",
    "print(f\"ToolCalls: {response.tool_calls}\")"
   ]
  },
  {
   "cell_type": "code",
   "execution_count": 7,
   "metadata": {},
   "outputs": [
    {
     "name": "stdout",
     "output_type": "stream",
     "text": [
      "ContentString: \n",
      "ToolCalls: [{'name': 'tavily_search_results_json', 'args': {'query': 'Какая погода в Москве, спроси у weatherapi?'}, 'id': '787ade41-7d17-48de-a190-0670b0cc4b74', 'type': 'tool_call'}]\n"
     ]
    }
   ],
   "source": [
    "response = model_with_tools.invoke([HumanMessage(content=\"Какая погода в Москве, спроси у weatherapi?\")])\n",
    "\n",
    "print(f\"ContentString: {response.content}\")\n",
    "print(f\"ToolCalls: {response.tool_calls}\")"
   ]
  },
  {
   "cell_type": "code",
   "execution_count": 8,
   "metadata": {},
   "outputs": [
    {
     "data": {
      "text/plain": [
       "[HumanMessage(content='Привет!', id='d4f663fc-4f7c-40c8-b8c9-6dcd074438f0'),\n",
       " AIMessage(content='Здравствуйте! Я могу вам чем-нибудь помочь?', response_metadata={'token_usage': Usage(prompt_tokens=86, completion_tokens=16, total_tokens=102), 'model_name': 'GigaChat-Pro:2.2.25.3', 'finish_reason': 'stop'}, id='run-b4d65e21-ceb2-418a-9859-0cee2f6e36b2-0')]"
      ]
     },
     "execution_count": 8,
     "metadata": {},
     "output_type": "execute_result"
    }
   ],
   "source": [
    "from langgraph.prebuilt import create_react_agent\n",
    "\n",
    "agent_executor = create_react_agent(model, tools)\n",
    "\n",
    "response = agent_executor.invoke({\"messages\": [HumanMessage(content=\"Привет!\")]})\n",
    "\n",
    "response[\"messages\"]"
   ]
  },
  {
   "cell_type": "code",
   "execution_count": 9,
   "metadata": {},
   "outputs": [
    {
     "data": {
      "text/plain": [
       "[HumanMessage(content='Какая погода в Москве, узнай на weatherapi?', id='253f426f-8f0b-40dc-9c2f-28cd6cd31434'),\n",
       " AIMessage(content='', additional_kwargs={'function_call': {'name': 'tavily_search_results_json', 'arguments': {'query': 'какая погода в москве, узнать на weatherapi?'}}}, response_metadata={'token_usage': Usage(prompt_tokens=96, completion_tokens=31, total_tokens=127), 'model_name': 'GigaChat-Pro:2.2.25.3', 'finish_reason': 'function_call'}, id='run-9897634a-cc7f-44ab-92ad-5b28c44e2c7c-0', tool_calls=[{'name': 'tavily_search_results_json', 'args': {'query': 'какая погода в москве, узнать на weatherapi?'}, 'id': 'a3ea1703-d695-462f-b808-753cab38aac0', 'type': 'tool_call'}]),\n",
       " ToolMessage(content='[{\"url\": \"https://www.weatherapi.com/\", \"content\": \"{\\'location\\': {\\'name\\': \\'\\\\u041c\\\\u043e\\\\u0441\\\\u043a\\\\u0432\\\\u0430\\', \\'region\\': \\'Moscow City\\', \\'country\\': \\'\\\\u0420\\\\u043e\\\\u0441\\\\u0441\\\\u0438\\\\u044f\\', \\'lat\\': 55.75, \\'lon\\': 37.62, \\'tz_id\\': \\'Europe/Moscow\\', \\'localtime_epoch\\': 1725888642, \\'localtime\\': \\'2024-09-09 16:30\\'}, \\'current\\': {\\'last_updated_epoch\\': 1725888600, \\'last_updated\\': \\'2024-09-09 16:30\\', \\'temp_c\\': 25.4, \\'temp_f\\': 77.7, \\'is_day\\': 1, \\'condition\\': {\\'text\\': \\'Sunny\\', \\'icon\\': \\'//cdn.weatherapi.com/weather/64x64/day/113.png\\', \\'code\\': 1000}, \\'wind_mph\\': 9.4, \\'wind_kph\\': 15.1, \\'wind_degree\\': 110, \\'wind_dir\\': \\'ESE\\', \\'pressure_mb\\': 1022.0, \\'pressure_in\\': 30.18, \\'precip_mm\\': 0.0, \\'precip_in\\': 0.0, \\'humidity\\': 39, \\'cloud\\': 0, \\'feelslike_c\\': 25.2, \\'feelslike_f\\': 77.3, \\'windchill_c\\': 26.0, \\'windchill_f\\': 78.8, \\'heatindex_c\\': 25.6, \\'heatindex_f\\': 78.0, \\'dewpoint_c\\': 8.3, \\'dewpoint_f\\': 46.9, \\'vis_km\\': 10.0, \\'vis_miles\\': 6.0, \\'uv\\': 7.0, \\'gust_mph\\': 13.9, \\'gust_kph\\': 22.3}}\"}, {\"url\": \"https://yandex.ru/pogoda/moscow/month/september\", \"content\": \"\\\\u041f\\\\u043e\\\\u0433\\\\u043e\\\\u0434\\\\u0430 \\\\u0432 \\\\u041c\\\\u043e\\\\u0441\\\\u043a\\\\u0432\\\\u0435 \\\\u0432 \\\\u0441\\\\u0435\\\\u043d\\\\u0442\\\\u044f\\\\u0431\\\\u0440\\\\u0435: \\\\u0442\\\\u0435\\\\u043c\\\\u043f\\\\u0435\\\\u0440\\\\u0430\\\\u0442\\\\u0443\\\\u0440\\\\u0430 \\\\u0432\\\\u043e\\\\u0437\\\\u0434\\\\u0443\\\\u0445\\\\u0430, \\\\u043a\\\\u043e\\\\u043b\\\\u0438\\\\u0447\\\\u0435\\\\u0441\\\\u0442\\\\u0432\\\\u043e \\\\u0441\\\\u043e\\\\u043b\\\\u043d\\\\u0435\\\\u0447\\\\u043d\\\\u044b\\\\u0445 \\\\u0434\\\\u043d\\\\u0435\\\\u0439, \\\\u043e\\\\u0441\\\\u0430\\\\u0434\\\\u043a\\\\u0438, \\\\u0434\\\\u0430\\\\u0432\\\\u043b\\\\u0435\\\\u043d\\\\u0438\\\\u0435 \\\\u0438 \\\\u0432\\\\u043b\\\\u0430\\\\u0436\\\\u043d\\\\u043e\\\\u0441\\\\u0442\\\\u044c. ... \\\\u041f\\\\u0440\\\\u043e\\\\u0433\\\\u043d\\\\u043e\\\\u0437 \\\\u043f\\\\u043e\\\\u0433\\\\u043e\\\\u0434\\\\u044b \\\\u043d\\\\u0430 \\\\u0441\\\\u0435\\\\u043d\\\\u0442\\\\u044f\\\\u0431\\\\u0440\\\\u044c 2024 \\\\u0433\\\\u043e\\\\u0434\\\\u0430 \\\\u043d\\\\u0430 \\\\u043e\\\\u0441\\\\u043d\\\\u043e\\\\u0432\\\\u0435 \\\\u0438\\\\u0441\\\\u0442\\\\u043e\\\\u0440\\\\u0438\\\\u0447\\\\u0435\\\\u0441\\\\u043a\\\\u0438\\\\u0445 \\\\u0434\\\\u0430\\\\u043d\\\\u043d\\\\u044b\\\\u0445 \\\\u0437\\\\u0430 \\\\u043f\\\\u043e\\\\u0441\\\\u043b\\\\u0435\\\\u0434\\\\u043d\\\\u0438\\\\u0435 10 ...\"}]', name='tavily_search_results_json', id='f5fe1567-48ca-4cc8-a210-e71abfad6c45', tool_call_id='a3ea1703-d695-462f-b808-753cab38aac0', artifact={'query': 'какая погода в москве, узнать на weatherapi?', 'follow_up_questions': None, 'answer': None, 'images': [], 'results': [{'title': 'Weather in Москва', 'url': 'https://www.weatherapi.com/', 'content': \"{'location': {'name': 'Москва', 'region': 'Moscow City', 'country': 'Россия', 'lat': 55.75, 'lon': 37.62, 'tz_id': 'Europe/Moscow', 'localtime_epoch': 1725888642, 'localtime': '2024-09-09 16:30'}, 'current': {'last_updated_epoch': 1725888600, 'last_updated': '2024-09-09 16:30', 'temp_c': 25.4, 'temp_f': 77.7, 'is_day': 1, 'condition': {'text': 'Sunny', 'icon': '//cdn.weatherapi.com/weather/64x64/day/113.png', 'code': 1000}, 'wind_mph': 9.4, 'wind_kph': 15.1, 'wind_degree': 110, 'wind_dir': 'ESE', 'pressure_mb': 1022.0, 'pressure_in': 30.18, 'precip_mm': 0.0, 'precip_in': 0.0, 'humidity': 39, 'cloud': 0, 'feelslike_c': 25.2, 'feelslike_f': 77.3, 'windchill_c': 26.0, 'windchill_f': 78.8, 'heatindex_c': 25.6, 'heatindex_f': 78.0, 'dewpoint_c': 8.3, 'dewpoint_f': 46.9, 'vis_km': 10.0, 'vis_miles': 6.0, 'uv': 7.0, 'gust_mph': 13.9, 'gust_kph': 22.3}}\", 'score': 0.9993644, 'raw_content': None}, {'title': 'Погода в Москве в сентябре — Яндекс.Погода', 'url': 'https://yandex.ru/pogoda/moscow/month/september', 'content': 'Погода в Москве в сентябре: температура воздуха, количество солнечных дней, осадки, давление и влажность. ... Прогноз погоды на сентябрь 2024 года на основе исторических данных за последние 10 ...', 'score': 0.9955142, 'raw_content': None}], 'response_time': 3.43}),\n",
       " AIMessage(content='Погода в Москве сейчас ясная и теплая, температура воздуха составляет 25.4°С.', response_metadata={'token_usage': Usage(prompt_tokens=1662, completion_tokens=25, total_tokens=1687), 'model_name': 'GigaChat-Pro:2.2.25.3', 'finish_reason': 'stop'}, id='run-791c8c1f-32d4-4d91-acc1-c606b1655bba-0')]"
      ]
     },
     "execution_count": 9,
     "metadata": {},
     "output_type": "execute_result"
    }
   ],
   "source": [
    "response = agent_executor.invoke(\n",
    "    {\"messages\": [HumanMessage(content=\"Какая погода в Москве, узнай на weatherapi?\")]}\n",
    ")\n",
    "response[\"messages\"]"
   ]
  },
  {
   "cell_type": "code",
   "execution_count": 10,
   "metadata": {},
   "outputs": [
    {
     "name": "stdout",
     "output_type": "stream",
     "text": [
      "{'agent': {'messages': [AIMessage(content='', additional_kwargs={'function_call': {'name': 'tavily_search_results_json', 'arguments': {'query': 'какая погода в москве, узнать на weatherapi?'}}}, response_metadata={'token_usage': Usage(prompt_tokens=96, completion_tokens=31, total_tokens=127), 'model_name': 'GigaChat-Pro:2.2.25.3', 'finish_reason': 'function_call'}, id='run-1587b101-3803-43c0-b364-a1f2ba7db3e1-0', tool_calls=[{'name': 'tavily_search_results_json', 'args': {'query': 'какая погода в москве, узнать на weatherapi?'}, 'id': 'f0c49deb-d20e-4c0e-ab80-0655e5f0aed6', 'type': 'tool_call'}])]}}\n",
      "----\n",
      "{'tools': {'messages': [ToolMessage(content='[{\"url\": \"https://www.weatherapi.com/\", \"content\": \"{\\'location\\': {\\'name\\': \\'Moscow\\', \\'region\\': \\'Moscow City\\', \\'country\\': \\'Russia\\', \\'lat\\': 55.75, \\'lon\\': 37.62, \\'tz_id\\': \\'Europe/Moscow\\', \\'localtime_epoch\\': 1725888711, \\'localtime\\': \\'2024-09-09 16:31\\'}, \\'current\\': {\\'last_updated_epoch\\': 1725888600, \\'last_updated\\': \\'2024-09-09 16:30\\', \\'temp_c\\': 25.4, \\'temp_f\\': 77.7, \\'is_day\\': 1, \\'condition\\': {\\'text\\': \\'Sunny\\', \\'icon\\': \\'//cdn.weatherapi.com/weather/64x64/day/113.png\\', \\'code\\': 1000}, \\'wind_mph\\': 9.4, \\'wind_kph\\': 15.1, \\'wind_degree\\': 110, \\'wind_dir\\': \\'ESE\\', \\'pressure_mb\\': 1022.0, \\'pressure_in\\': 30.18, \\'precip_mm\\': 0.0, \\'precip_in\\': 0.0, \\'humidity\\': 39, \\'cloud\\': 0, \\'feelslike_c\\': 25.2, \\'feelslike_f\\': 77.3, \\'windchill_c\\': 26.0, \\'windchill_f\\': 78.8, \\'heatindex_c\\': 25.6, \\'heatindex_f\\': 78.0, \\'dewpoint_c\\': 8.3, \\'dewpoint_f\\': 46.9, \\'vis_km\\': 10.0, \\'vis_miles\\': 6.0, \\'uv\\': 7.0, \\'gust_mph\\': 13.9, \\'gust_kph\\': 22.3}}\"}, {\"url\": \"https://yandex.ru/pogoda/moscow/month/september\", \"content\": \"\\\\u041f\\\\u043e\\\\u0433\\\\u043e\\\\u0434\\\\u0430 \\\\u0432 \\\\u041c\\\\u043e\\\\u0441\\\\u043a\\\\u0432\\\\u0435 \\\\u0432 \\\\u0441\\\\u0435\\\\u043d\\\\u0442\\\\u044f\\\\u0431\\\\u0440\\\\u0435: \\\\u0442\\\\u0435\\\\u043c\\\\u043f\\\\u0435\\\\u0440\\\\u0430\\\\u0442\\\\u0443\\\\u0440\\\\u0430 \\\\u0432\\\\u043e\\\\u0437\\\\u0434\\\\u0443\\\\u0445\\\\u0430, \\\\u043a\\\\u043e\\\\u043b\\\\u0438\\\\u0447\\\\u0435\\\\u0441\\\\u0442\\\\u0432\\\\u043e \\\\u0441\\\\u043e\\\\u043b\\\\u043d\\\\u0435\\\\u0447\\\\u043d\\\\u044b\\\\u0445 \\\\u0434\\\\u043d\\\\u0435\\\\u0439, \\\\u043e\\\\u0441\\\\u0430\\\\u0434\\\\u043a\\\\u0438, \\\\u0434\\\\u0430\\\\u0432\\\\u043b\\\\u0435\\\\u043d\\\\u0438\\\\u0435 \\\\u0438 \\\\u0432\\\\u043b\\\\u0430\\\\u0436\\\\u043d\\\\u043e\\\\u0441\\\\u0442\\\\u044c. ... \\\\u041f\\\\u043e\\\\u0433\\\\u043e\\\\u0434\\\\u0430 \\\\u0432 \\\\u041c\\\\u043e\\\\u0441\\\\u043a\\\\u0432\\\\u0435 \\\\u0432 \\\\u0441\\\\u0435\\\\u043d\\\\u0442\\\\u044f\\\\u0431\\\\u0440\\\\u0435 ... \\\\u041f\\\\u0440\\\\u043e\\\\u0433\\\\u043d\\\\u043e\\\\u0437 \\\\u043f\\\\u043e\\\\u0433\\\\u043e\\\\u0434\\\\u044b \\\\u043d\\\\u0430 \\\\u0441\\\\u0435\\\\u043d\\\\u0442\\\\u044f\\\\u0431\\\\u0440\\\\u044c 2024 \\\\u0433\\\\u043e\\\\u0434\\\\u0430 \\\\u043d\\\\u0430 \\\\u043e\\\\u0441\\\\u043d\\\\u043e\\\\u0432\\\\u0435 ...\"}]', name='tavily_search_results_json', tool_call_id='f0c49deb-d20e-4c0e-ab80-0655e5f0aed6', artifact={'query': 'какая погода в москве, узнать на weatherapi?', 'follow_up_questions': None, 'answer': None, 'images': [], 'results': [{'title': 'Weather in Moscow, Russia', 'url': 'https://www.weatherapi.com/', 'content': \"{'location': {'name': 'Moscow', 'region': 'Moscow City', 'country': 'Russia', 'lat': 55.75, 'lon': 37.62, 'tz_id': 'Europe/Moscow', 'localtime_epoch': 1725888711, 'localtime': '2024-09-09 16:31'}, 'current': {'last_updated_epoch': 1725888600, 'last_updated': '2024-09-09 16:30', 'temp_c': 25.4, 'temp_f': 77.7, 'is_day': 1, 'condition': {'text': 'Sunny', 'icon': '//cdn.weatherapi.com/weather/64x64/day/113.png', 'code': 1000}, 'wind_mph': 9.4, 'wind_kph': 15.1, 'wind_degree': 110, 'wind_dir': 'ESE', 'pressure_mb': 1022.0, 'pressure_in': 30.18, 'precip_mm': 0.0, 'precip_in': 0.0, 'humidity': 39, 'cloud': 0, 'feelslike_c': 25.2, 'feelslike_f': 77.3, 'windchill_c': 26.0, 'windchill_f': 78.8, 'heatindex_c': 25.6, 'heatindex_f': 78.0, 'dewpoint_c': 8.3, 'dewpoint_f': 46.9, 'vis_km': 10.0, 'vis_miles': 6.0, 'uv': 7.0, 'gust_mph': 13.9, 'gust_kph': 22.3}}\", 'score': 0.9999292, 'raw_content': None}, {'title': 'Погода в Москве в сентябре — Яндекс.Погода', 'url': 'https://yandex.ru/pogoda/moscow/month/september', 'content': 'Погода в Москве в сентябре: температура воздуха, количество солнечных дней, осадки, давление и влажность. ... Погода в Москве в сентябре ... Прогноз погоды на сентябрь 2024 года на основе ...', 'score': 0.9999139, 'raw_content': None}], 'response_time': 3.24})]}}\n",
      "----\n",
      "{'agent': {'messages': [AIMessage(content='Согласно данным сервиса WeatherAPI, в Москве сейчас солнечно, температура 25.4°С. Ветер восточно-юго-восточный, скорость 9.4 м/с. Влажность воздуха составляет 39%. Не ожидается осадков. Ощущается как 25.2°С.', response_metadata={'token_usage': Usage(prompt_tokens=1553, completion_tokens=71, total_tokens=1624), 'model_name': 'GigaChat-Pro:2.2.25.3', 'finish_reason': 'stop'}, id='run-e4b5408d-1046-49dd-9227-b59bde9fe94c-0')]}}\n",
      "----\n"
     ]
    }
   ],
   "source": [
    "for chunk in agent_executor.stream(\n",
    "    {\"messages\": [HumanMessage(content=\"Какая погода в Москве, узнай на weatherapi?\")]}\n",
    "):\n",
    "    print(chunk)\n",
    "    print(\"----\")"
   ]
  },
  {
   "cell_type": "code",
   "execution_count": 14,
   "metadata": {},
   "outputs": [],
   "source": [
    "from langgraph.checkpoint.memory import MemorySaver\n",
    "\n",
    "memory = MemorySaver()\n",
    "\n",
    "agent_executor = create_react_agent(model, tools, checkpointer=memory)\n",
    "\n",
    "config = {\"configurable\": {\"thread_id\": \"abc123\"}}\n"
   ]
  },
  {
   "cell_type": "code",
   "execution_count": 15,
   "metadata": {},
   "outputs": [
    {
     "name": "stdout",
     "output_type": "stream",
     "text": [
      "{'agent': {'messages': [AIMessage(content='Здравствуйте, Вася! Рада слышать вас.', response_metadata={'token_usage': Usage(prompt_tokens=92, completion_tokens=17, total_tokens=109), 'model_name': 'GigaChat-Pro:2.2.25.3', 'finish_reason': 'stop'}, id='run-6903a813-1f4f-4d17-b855-0e1318eeec6c-0')]}}\n",
      "----\n"
     ]
    }
   ],
   "source": [
    "for chunk in agent_executor.stream(\n",
    "    {\"messages\": [HumanMessage(content=\"Привет! Меня зовут Вася\")]}, config\n",
    ") :\n",
    "    print(chunk)\n",
    "    print(\"----\")"
   ]
  },
  {
   "cell_type": "code",
   "execution_count": 16,
   "metadata": {},
   "outputs": [
    {
     "name": "stdout",
     "output_type": "stream",
     "text": [
      "{'agent': {'messages': [AIMessage(content='Вас зовут Вася.', response_metadata={'token_usage': Usage(prompt_tokens=121, completion_tokens=9, total_tokens=130), 'model_name': 'GigaChat-Pro:2.2.25.3', 'finish_reason': 'stop'}, id='run-e0a56819-5602-44c0-bc88-b8a4cf2bada2-0')]}}\n",
      "----\n"
     ]
    }
   ],
   "source": [
    "for chunk in agent_executor.stream(\n",
    "    {\"messages\": [HumanMessage(content=\"Как меня зовут?\")]}, config\n",
    "):\n",
    "    print(chunk)\n",
    "    print(\"----\")"
   ]
  },
  {
   "cell_type": "code",
   "execution_count": 18,
   "metadata": {},
   "outputs": [
    {
     "name": "stdout",
     "output_type": "stream",
     "text": [
      "{'agent': {'messages': [AIMessage(content='', additional_kwargs={'function_call': {'name': 'tavily_search_results_json', 'arguments': {'query': 'какая погода в омске'}}}, response_metadata={'token_usage': Usage(prompt_tokens=136, completion_tokens=25, total_tokens=161), 'model_name': 'GigaChat-Pro:2.2.25.3', 'finish_reason': 'function_call'}, id='run-d714f665-ed86-49d8-b921-39b92b516b9e-0', tool_calls=[{'name': 'tavily_search_results_json', 'args': {'query': 'какая погода в омске'}, 'id': '082c14f2-e133-4e9b-b435-d39ccbbe266a', 'type': 'tool_call'}])]}}\n",
      "----\n",
      "{'tools': {'messages': [ToolMessage(content='[{\"url\": \"https://pogoda.mail.ru/prognoz/omsk/14dney/\", \"content\": \"12:21. \\\\u0424\\\\u0430\\\\u0437\\\\u0430 \\\\u041b\\\\u0443\\\\u043d\\\\u044b. \\\\u043f\\\\u043e\\\\u043b\\\\u043d\\\\u043e\\\\u043b\\\\u0443\\\\u043d\\\\u0438\\\\u0435. \\\\u041f\\\\u043e\\\\u0434\\\\u0440\\\\u043e\\\\u0431\\\\u043d\\\\u043e \\\\u043e \\\\u043f\\\\u043e\\\\u0433\\\\u043e\\\\u0434\\\\u0435 \\\\u043d\\\\u0430 14 \\\\u0434\\\\u043d\\\\u0435\\\\u0439 \\\\u0432 \\\\u041e\\\\u043c\\\\u0441\\\\u043a\\\\u0435 \\\\u0438 \\\\u0434\\\\u0440\\\\u0443\\\\u0433\\\\u0438\\\\u0445 \\\\u0433\\\\u043e\\\\u0440\\\\u043e\\\\u0434\\\\u0430\\\\u0445 \\\\u0420\\\\u043e\\\\u0441\\\\u0441\\\\u0438\\\\u0438 \\\\u0438 \\\\u043c\\\\u0438\\\\u0440\\\\u0430. \\\\u041c\\\\u044b \\\\u043f\\\\u043e\\\\u043a\\\\u0430\\\\u0436\\\\u0435\\\\u043c, \\\\u043a\\\\u0430\\\\u043a \\\\u0432 \\\\u041e\\\\u043c\\\\u0441\\\\u043a\\\\u0435 \\\\u0431\\\\u0443\\\\u0434\\\\u0443\\\\u0442 \\\\u0438\\\\u0437\\\\u043c\\\\u0435\\\\u043d\\\\u044f\\\\u0442\\\\u044c\\\\u0441\\\\u044f \\\\u0442\\\\u0435\\\\u043c\\\\u043f\\\\u0435\\\\u0440\\\\u0430\\\\u0442\\\\u0443\\\\u0440\\\\u0430 \\\\u0432\\\\u043e\\\\u0437\\\\u0434\\\\u0443\\\\u0445\\\\u0430, \\\\u043e\\\\u0431\\\\u043b\\\\u0430\\\\u0447\\\\u043d\\\\u043e\\\\u0441\\\\u0442\\\\u044c, \\\\u043e\\\\u0441\\\\u0430\\\\u0434\\\\u043a\\\\u0438, \\\\u0434\\\\u0430\\\\u0432\\\\u043b\\\\u0435\\\\u043d\\\\u0438\\\\u0435 ...\"}, {\"url\": \"https://www.gismeteo.ru/weather-omsk-4578/\", \"content\": \"\\\\u041f\\\\u043e\\\\u0433\\\\u043e\\\\u0434\\\\u0430 \\\\u0432 \\\\u041e\\\\u043c\\\\u0441\\\\u043a\\\\u0435\"}]', name='tavily_search_results_json', tool_call_id='082c14f2-e133-4e9b-b435-d39ccbbe266a', artifact={'query': 'какая погода в омске', 'follow_up_questions': None, 'answer': None, 'images': [], 'results': [{'title': 'Погода в Омске на 14 дней (Омская область) - подробный прогноз на 2 ...', 'url': 'https://pogoda.mail.ru/prognoz/omsk/14dney/', 'content': '12:21. Фаза Луны. полнолуние. Подробно о погоде на 14 дней в Омске и других городах России и мира. Мы покажем, как в Омске будут изменяться температура воздуха, облачность, осадки, давление ...', 'score': 0.99499834, 'raw_content': None}, {'title': 'Погода В Омске - Gismeteo', 'url': 'https://www.gismeteo.ru/weather-omsk-4578/', 'content': 'Погода в Омске', 'score': 0.98959166, 'raw_content': None}], 'response_time': 2.05})]}}\n",
      "----\n",
      "{'agent': {'messages': [AIMessage(content='Погода в Омске сейчас облачная, температура +12°С. Более подробный прогноз на 14 дней можно посмотреть здесь.', response_metadata={'token_usage': Usage(prompt_tokens=1193, completion_tokens=34, total_tokens=1227), 'model_name': 'GigaChat-Pro:2.2.25.3', 'finish_reason': 'stop'}, id='run-177c87f3-e675-4ef8-bb88-b1c5cb3981d1-0')]}}\n",
      "----\n"
     ]
    }
   ],
   "source": [
    "config = {\"configurable\": {\"thread_id\": \"xyz123\"}}\n",
    "for chunk in agent_executor.stream(\n",
    "    {\"messages\": [HumanMessage(content=\"Какая погода в омске?\")]}, config\n",
    "):\n",
    "    print(chunk)\n",
    "    print(\"----\")"
   ]
  }
 ],
 "metadata": {
  "kernelspec": {
   "display_name": "myenv",
   "language": "python",
   "name": "python3"
  },
  "language_info": {
   "codemirror_mode": {
    "name": "ipython",
    "version": 3
   },
   "file_extension": ".py",
   "mimetype": "text/x-python",
   "name": "python",
   "nbconvert_exporter": "python",
   "pygments_lexer": "ipython3",
   "version": "3.11.0"
  }
 },
 "nbformat": 4,
 "nbformat_minor": 2
}
