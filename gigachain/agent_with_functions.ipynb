{
 "cells": [
  {
   "cell_type": "code",
   "execution_count": 1,
   "metadata": {},
   "outputs": [],
   "source": [
    "stuff_database = [\n",
    "    {\"name\": \"iPhone 8 mini\", \"price\": 300, \"memory\": 128, \"ram\": 8, \"camera\": 12, \"description\": \"Самая дешевая модель iPhone\"},\n",
    "    {\"name\": \"iPhone 14\", \"price\": 1000, \"memory\": 128, \"ram\": 8, \"camera\": 12, \"description\": \"Телефон будущего, уже сегодня!\"},\n",
    "    {\"name\": \"Samsung Galaxy S23\", \"price\": 900, \"memory\": 256, \"ram\": 12, \"camera\": 108, \"description\": \"Камера такая острая, что сможет увидеть даже ваши ошибки\"},\n",
    "    {\"name\": \"Google Pixel 7\", \"price\": 850, \"memory\": 128, \"ram\": 8, \"camera\": 16, \"description\": \"Для тех, кто хочет получить стоковый Android и хорошие фотки\"},\n",
    "    {\"name\": \"OnePlus 9T\", \"price\": 700, \"memory\": 128, \"ram\": 8, \"camera\": 48, \"description\": \"Зарядка быстрее, чем ваш кофе\"},\n",
    "    {\"name\": \"Xiaomi Mi 12\", \"price\": 600, \"memory\": 128, \"ram\": 6, \"camera\": 64, \"description\": \"Бюджетный флагман для ценителей вкуса\"},\n",
    "    {\"name\": \"Sony Xperia 3\", \"price\": 1100, \"memory\": 256, \"ram\": 12, \"camera\": 20, \"description\": \"Телефон для тех, кто скучал по кнопке для камеры\"},\n",
    "    {\"name\": \"Huawei P60\", \"price\": 800, \"memory\": 128, \"ram\": 8, \"camera\": 50, \"description\": \"Для любителей ночной съемки и без Google Play\"},\n",
    "    {\"name\": \"Nokia 10 PureView\", \"price\": 750, \"memory\": 128, \"ram\": 6, \"camera\": 48, \"description\": \"Nokia вернулась, и у нее есть змейка!\"},\n",
    "    {\"name\": \"LG Velvet 2\", \"price\": 650, \"memory\": 128, \"ram\": 8, \"camera\": 32, \"description\": \"Потому что жизнь хороша\"},\n",
    "    {\"name\": \"Asus ROG Phone 6\", \"price\": 1000, \"memory\": 512, \"ram\": 16, \"camera\": 64, \"description\": \"Играй как профи, заряжай как новичок\"},\n",
    "    {\"name\": \"Motorola Edge Plus\", \"price\": 700, \"memory\": 128, \"ram\": 8, \"camera\": 108, \"description\": \"Край к краю, пиксель к пикселю\"},\n",
    "    {\"name\": \"Realme X4 Pro\", \"price\": 450, \"memory\": 128, \"ram\": 8, \"camera\": 48, \"description\": \"Экономия без потерь в качестве\"},\n",
    "    {\"name\": \"Oppo Find X4\", \"price\": 900, \"memory\": 256, \"ram\": 12, \"camera\": 50, \"description\": \"Найди X, но без математики\"},\n",
    "    {\"name\": \"BlackBerry Secure\", \"price\": 1200, \"memory\": 128, \"ram\": 8, \"camera\": 12, \"description\": \"Для тех, кто еще помнит, что такое физическая клавиатура\"},\n",
    "    {\"name\": \"Fairphone 4\", \"price\": 500, \"memory\": 64, \"ram\": 4, \"camera\": 12, \"description\": \"Этичный выбор для заботливого потребителя\"}\n",
    "]"
   ]
  },
  {
   "cell_type": "code",
   "execution_count": 2,
   "metadata": {},
   "outputs": [],
   "source": [
    "from typing import Dict\n",
    "from langchain.tools import tool\n",
    "\n",
    "\n",
    "@tool\n",
    "def get_all_phone_names() -> str:\n",
    "    \"\"\"Возвращает названия моделей всех телефонов через запятую\"\"\"\n",
    "    # Подсвечивает вызов функции зеленым цветом\n",
    "    print(\"\\033[92m\" + f\"Bot requested get_all_phone_names()\" + \"\\033[0m\")\n",
    "    return ', '.join([stuff[\"name\"] for stuff in stuff_database])\n",
    "\n",
    "\n",
    "@tool\n",
    "def get_phone_data_by_name(name: str) -> Dict:\n",
    "    \"\"\"\n",
    "    Возвращает цену, характеристики и описание телефона по точному названию модели.\n",
    "\n",
    "    Args:\n",
    "        name (str): Точное название модели телефона.\n",
    "\n",
    "    Returns:\n",
    "        Dict: Словарь с информацией о телефоне (цена, характеристики и описание).\n",
    "    \"\"\"\n",
    "    # Подсвечивает вызов функции зеленым цветом\n",
    "    print(\"\\033[92m\" + f\"Bot requested get_phone_data_by_name({name})\" + \"\\033[0m\")\n",
    "    for stuff in stuff_database:\n",
    "        if stuff[\"name\"] == name:\n",
    "            return stuff\n",
    "    return None"
   ]
  },
  {
   "cell_type": "code",
   "execution_count": 3,
   "metadata": {},
   "outputs": [],
   "source": [
    "@tool\n",
    "def create_order(name: str, phone: str) -> None:\n",
    "    \"\"\"\n",
    "    Создает новый заказ на телефон.\n",
    "\n",
    "    Args:\n",
    "        name (str): Название телефона.\n",
    "        phone (str): Телефонный номер пользователя.\n",
    "\n",
    "    Returns:\n",
    "        str: Статус заказа.\n",
    "    \"\"\"\n",
    "    # Подсвечивает вызов функции зеленым цветом\n",
    "    print(\"\\033[92m\" + f\"Bot requested create_order({name}, {phone})\" + \"\\033[0m\")\n",
    "    print(f\"!!! NEW ORDER !!! {name} {phone}\")"
   ]
  },
  {
   "cell_type": "code",
   "execution_count": 4,
   "metadata": {},
   "outputs": [],
   "source": [
    "system = \"Ты — бот-продавец телефонов. Твоя задача — продать телефон пользователю, получив от него заказ. Если тебе не хватает каких-то данных, запрашивай их у пользователя.\""
   ]
  },
  {
   "cell_type": "code",
   "execution_count": 5,
   "metadata": {},
   "outputs": [],
   "source": [
    "tools = [\n",
    "    get_all_phone_names,\n",
    "    get_phone_data_by_name,\n",
    "    create_order\n",
    "]\n",
    "\n",
    "from langchain.chat_models.gigachat import GigaChat\n",
    "\n",
    "giga = GigaChat(\n",
    "    credentials=\"\",\n",
    "    scope=\"GIGACHAT_API_PERS\",\n",
    "    model=\"GigaChat-Pro\",\n",
    ")"
   ]
  },
  {
   "cell_type": "code",
   "execution_count": 6,
   "metadata": {},
   "outputs": [
    {
     "name": "stdout",
     "output_type": "stream",
     "text": [
      "Bot: Конечно, я могу помочь с этим. Не могли бы Вы уточнить, какую модель iPhone Вы хотели бы приобрести?\n",
      "Bot: Отличный выбор! iPhone 14 - это один из самых передовых смартфонов на рынке. Хотели бы Вы приобрести версию с меньшим объёмом памяти или Вас интересует максимальная комплектация?\n",
      "Bot: Понял Вас. Максимальная комплектация iPhone 14 включает в себя 512 ГБ встроенной памяти. Для оформления заказа мне понадобится Ваше имя и контактный номер телефона.\n"
     ]
    },
    {
     "ename": "KeyboardInterrupt",
     "evalue": "Interrupted by user",
     "output_type": "error",
     "traceback": [
      "\u001b[1;31m---------------------------------------------------------------------------\u001b[0m",
      "\u001b[1;31mKeyboardInterrupt\u001b[0m                         Traceback (most recent call last)",
      "Cell \u001b[1;32mIn[6], line 17\u001b[0m\n\u001b[0;32m     14\u001b[0m chat_history \u001b[38;5;241m=\u001b[39m [SystemMessage(content\u001b[38;5;241m=\u001b[39msystem)]\n\u001b[0;32m     16\u001b[0m \u001b[38;5;28;01mwhile\u001b[39;00m \u001b[38;5;28;01mTrue\u001b[39;00m:\n\u001b[1;32m---> 17\u001b[0m     user_input \u001b[38;5;241m=\u001b[39m \u001b[38;5;28;43minput\u001b[39;49m\u001b[43m(\u001b[49m\u001b[38;5;124;43m\"\u001b[39;49m\u001b[38;5;124;43mПокупатель: \u001b[39;49m\u001b[38;5;124;43m\"\u001b[39;49m\u001b[43m)\u001b[49m\n\u001b[0;32m     18\u001b[0m     \u001b[38;5;28;01mif\u001b[39;00m user_input \u001b[38;5;241m==\u001b[39m \u001b[38;5;124m\"\u001b[39m\u001b[38;5;124m\"\u001b[39m:\n\u001b[0;32m     19\u001b[0m         \u001b[38;5;28;01mbreak\u001b[39;00m\n",
      "File \u001b[1;32mc:\\projects\\study\\gigachain\\myenv\\Lib\\site-packages\\ipykernel\\kernelbase.py:1282\u001b[0m, in \u001b[0;36mKernel.raw_input\u001b[1;34m(self, prompt)\u001b[0m\n\u001b[0;32m   1280\u001b[0m     msg \u001b[38;5;241m=\u001b[39m \u001b[38;5;124m\"\u001b[39m\u001b[38;5;124mraw_input was called, but this frontend does not support input requests.\u001b[39m\u001b[38;5;124m\"\u001b[39m\n\u001b[0;32m   1281\u001b[0m     \u001b[38;5;28;01mraise\u001b[39;00m StdinNotImplementedError(msg)\n\u001b[1;32m-> 1282\u001b[0m \u001b[38;5;28;01mreturn\u001b[39;00m \u001b[38;5;28;43mself\u001b[39;49m\u001b[38;5;241;43m.\u001b[39;49m\u001b[43m_input_request\u001b[49m\u001b[43m(\u001b[49m\n\u001b[0;32m   1283\u001b[0m \u001b[43m    \u001b[49m\u001b[38;5;28;43mstr\u001b[39;49m\u001b[43m(\u001b[49m\u001b[43mprompt\u001b[49m\u001b[43m)\u001b[49m\u001b[43m,\u001b[49m\n\u001b[0;32m   1284\u001b[0m \u001b[43m    \u001b[49m\u001b[38;5;28;43mself\u001b[39;49m\u001b[38;5;241;43m.\u001b[39;49m\u001b[43m_parent_ident\u001b[49m\u001b[43m[\u001b[49m\u001b[38;5;124;43m\"\u001b[39;49m\u001b[38;5;124;43mshell\u001b[39;49m\u001b[38;5;124;43m\"\u001b[39;49m\u001b[43m]\u001b[49m\u001b[43m,\u001b[49m\n\u001b[0;32m   1285\u001b[0m \u001b[43m    \u001b[49m\u001b[38;5;28;43mself\u001b[39;49m\u001b[38;5;241;43m.\u001b[39;49m\u001b[43mget_parent\u001b[49m\u001b[43m(\u001b[49m\u001b[38;5;124;43m\"\u001b[39;49m\u001b[38;5;124;43mshell\u001b[39;49m\u001b[38;5;124;43m\"\u001b[39;49m\u001b[43m)\u001b[49m\u001b[43m,\u001b[49m\n\u001b[0;32m   1286\u001b[0m \u001b[43m    \u001b[49m\u001b[43mpassword\u001b[49m\u001b[38;5;241;43m=\u001b[39;49m\u001b[38;5;28;43;01mFalse\u001b[39;49;00m\u001b[43m,\u001b[49m\n\u001b[0;32m   1287\u001b[0m \u001b[43m\u001b[49m\u001b[43m)\u001b[49m\n",
      "File \u001b[1;32mc:\\projects\\study\\gigachain\\myenv\\Lib\\site-packages\\ipykernel\\kernelbase.py:1325\u001b[0m, in \u001b[0;36mKernel._input_request\u001b[1;34m(self, prompt, ident, parent, password)\u001b[0m\n\u001b[0;32m   1322\u001b[0m \u001b[38;5;28;01mexcept\u001b[39;00m \u001b[38;5;167;01mKeyboardInterrupt\u001b[39;00m:\n\u001b[0;32m   1323\u001b[0m     \u001b[38;5;66;03m# re-raise KeyboardInterrupt, to truncate traceback\u001b[39;00m\n\u001b[0;32m   1324\u001b[0m     msg \u001b[38;5;241m=\u001b[39m \u001b[38;5;124m\"\u001b[39m\u001b[38;5;124mInterrupted by user\u001b[39m\u001b[38;5;124m\"\u001b[39m\n\u001b[1;32m-> 1325\u001b[0m     \u001b[38;5;28;01mraise\u001b[39;00m \u001b[38;5;167;01mKeyboardInterrupt\u001b[39;00m(msg) \u001b[38;5;28;01mfrom\u001b[39;00m \u001b[38;5;28;01mNone\u001b[39;00m\n\u001b[0;32m   1326\u001b[0m \u001b[38;5;28;01mexcept\u001b[39;00m \u001b[38;5;167;01mException\u001b[39;00m:\n\u001b[0;32m   1327\u001b[0m     \u001b[38;5;28mself\u001b[39m\u001b[38;5;241m.\u001b[39mlog\u001b[38;5;241m.\u001b[39mwarning(\u001b[38;5;124m\"\u001b[39m\u001b[38;5;124mInvalid Message:\u001b[39m\u001b[38;5;124m\"\u001b[39m, exc_info\u001b[38;5;241m=\u001b[39m\u001b[38;5;28;01mTrue\u001b[39;00m)\n",
      "\u001b[1;31mKeyboardInterrupt\u001b[0m: Interrupted by user"
     ]
    }
   ],
   "source": [
    "from langchain.agents import AgentExecutor, create_gigachat_functions_agent\n",
    "\n",
    "agent = create_gigachat_functions_agent(giga, tools)\n",
    "\n",
    "# AgentExecutor создает среду, в которой будет работать агент\n",
    "agent_executor = AgentExecutor(\n",
    "    agent=agent,\n",
    "    tools=tools,\n",
    "    verbose=False,\n",
    ")\n",
    "\n",
    "from langchain_core.messages import AIMessage, HumanMessage, SystemMessage\n",
    "\n",
    "chat_history = [SystemMessage(content=system)]\n",
    "\n",
    "while True:\n",
    "    user_input = input(\"Покупатель: \")\n",
    "    if user_input == \"\":\n",
    "        break\n",
    "    result = agent_executor.invoke(\n",
    "        {\n",
    "            \"chat_history\": chat_history,\n",
    "            \"input\": user_input,\n",
    "        }\n",
    "    )\n",
    "    chat_history.append(HumanMessage(content=user_input))\n",
    "    chat_history.append(AIMessage(content=result[\"output\"]))\n",
    "    print(f\"Bot: {result['output']}\")"
   ]
  }
 ],
 "metadata": {
  "kernelspec": {
   "display_name": "myenv",
   "language": "python",
   "name": "python3"
  },
  "language_info": {
   "codemirror_mode": {
    "name": "ipython",
    "version": 3
   },
   "file_extension": ".py",
   "mimetype": "text/x-python",
   "name": "python",
   "nbconvert_exporter": "python",
   "pygments_lexer": "ipython3",
   "version": "3.11.0"
  }
 },
 "nbformat": 4,
 "nbformat_minor": 2
}
